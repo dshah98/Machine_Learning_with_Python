{
 "cells": [
  {
   "attachments": {},
   "cell_type": "markdown",
   "metadata": {},
   "source": [
    "# R Squared\n",
    "\n",
    "`- SSres = SUM(Yi - Yi hat)^2`\n",
    "    \n",
    "    - where SSres is Sum of Square of Residuals.\n",
    "\n",
    "`- SStot = SUM(Yi - Yavg)^2`\n",
    "\n",
    "    - where SStot is Total Sum of Squares.\n",
    "\n",
    "`- R Squared = 1 - (SSres / SStot)`\n",
    "- If SS residual is zero, so basically your trend line that your modeling goes through all your records then in that case R-squared is equal to 1.\n",
    "- The closer the R-squared to 1 the better the further away it is from 1 so, the lower it is the worse.\n",
    "- R Squared can be negative as if SS residual fits your data worse than then your average line."
   ]
  },
  {
   "cell_type": "markdown",
   "metadata": {},
   "source": [
    "# Adjusted R Squared\n",
    "`- Adj R Squared = 1 - (1 - R Squared) [ (n - 1) / (n - p - 1) ] )`\n",
    "    \n",
    "    - where, p is number of regressors and n is sample size.\n",
    "- Adjusted R Squared has a penalization factor.\n",
    "- It penalizes you for adding independent variable that dont help your model.\n",
    "- When p increases, `(n - p -1)` decreases, and when this whole part decreases the denominator decreases the ratio increases and as the ratio increases `(1 - R Squared) [ (n - 1) / (n - p - 1) ] )` increases as well.\n",
    "- As adding more regressor the adjusted r-squared is decreasing.\n",
    "- As R-squared increases `(1 - R Squared)` decreases so whole adjusted r-squared increases."
   ]
  }
 ],
 "metadata": {
  "kernelspec": {
   "display_name": "Python 3",
   "language": "python",
   "name": "python3"
  },
  "language_info": {
   "codemirror_mode": {
    "name": "ipython",
    "version": 3
   },
   "file_extension": ".py",
   "mimetype": "text/x-python",
   "name": "python",
   "nbconvert_exporter": "python",
   "pygments_lexer": "ipython3",
   "version": "3.7.9"
  }
 },
 "nbformat": 4,
 "nbformat_minor": 4
}
