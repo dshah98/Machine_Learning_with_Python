{
 "cells": [
  {
   "cell_type": "markdown",
   "metadata": {},
   "source": [
    "# Upper Confidence Bound (UCB)\n",
    "### The Multi-armed Bandit\n",
    "    - We have d arms. For example, arms are ads that we display to users each time they connect to this web page.\n",
    "    - Each time a user connects to this web page, that make a round.\n",
    "    - At each round n, we choose one ad to display to the users.\n",
    "    - At each round n, ad i gives reward Ri(n) belongs to {0, 1}: Ri(n) = 1, if the user clicked on the ad i, 0 if the user didnt.\n",
    "    - Our goal is to maximize the total reward we get over many rounds.\n",
    "    \n",
    "- Steps for Upper Confidence Bound;\n",
    "        - Step 1 : At each round n, we consider two number for each ad i:\n",
    "                - Ni(n) - the number of time the ad i was selected up to round n,\n",
    "                - Ri(n) - the sum of rewards of the ad i up to round n.\n",
    "        - Step 2 : Form these two number we compute:\n",
    "                - The average reward of ad i up to round n\n",
    "                    r(n) = the average reward of slot machine = R(n) / N(n).\n",
    "                - The confidence interval [Ri(n) - Δi(n), Ri(n) + Δi(n)] at round n with\n",
    "                    Δi(n) = √(3/2)(log(n)/Ni(n))\n",
    "        - Step 3 : We select thr ad i that has the maximum UCB [ Ri(n) + Δi(n) ]"
   ]
  },
  {
   "cell_type": "markdown",
   "metadata": {},
   "source": [
    "**Importing the Libraries**"
   ]
  },
  {
   "cell_type": "code",
   "execution_count": 1,
   "metadata": {},
   "outputs": [],
   "source": [
    "# Numpy allows us to work with array.\n",
    "import numpy as np\n",
    "\n",
    "# Maptplotlib which allows us to plot some chart.\n",
    "import matplotlib.pyplot as plt\n",
    "\n",
    "# Pandas allows us to not only import the datasets but also create the matrix of features(independent) and \n",
    "# dependent variable.\n",
    "import pandas as pd"
   ]
  },
  {
   "cell_type": "markdown",
   "metadata": {},
   "source": [
    "**Importing the Dataset**"
   ]
  },
  {
   "cell_type": "code",
   "execution_count": 2,
   "metadata": {},
   "outputs": [],
   "source": [
    "dataset = pd.read_csv('Ads_CTR_Optimisation.csv')"
   ]
  },
  {
   "cell_type": "markdown",
   "metadata": {},
   "source": [
    "**Implementing UCB**"
   ]
  },
  {
   "cell_type": "code",
   "execution_count": 3,
   "metadata": {},
   "outputs": [],
   "source": [
    "import math\n",
    "\n",
    "# Total Number of rounds to show User\n",
    "N = 10000\n",
    "\n",
    "# Number of ads\n",
    "d = 10\n",
    "\n",
    "# Full list of rounds\n",
    "ads_selected = []\n",
    "\n",
    "number_of_selections = [0] * d\n",
    "sums_of_rewads = [0] * d\n",
    "total_rewards = 0\n",
    "\n",
    "# Average Rewards and Confidence Interval \n",
    "for n in range(0, N):\n",
    "    ad= 0 \n",
    "    max_upper_bound = 0\n",
    "    for i in range(0, d):\n",
    "        if (number_of_selections[i] > 0):\n",
    "            average_reward = sums_of_rewads[i] / number_of_selections[i]\n",
    "            delta_i = math.sqrt(3/2 * math.log(n + 1) / number_of_selections[i])\n",
    "            upper_bound = average_reward + delta_i\n",
    "        else:\n",
    "            upper_bound = 1e400\n",
    "        if (upper_bound > max_upper_bound):\n",
    "            max_upper_bound = upper_bound\n",
    "            ad = i \n",
    "    ads_selected.append(ad)\n",
    "    number_of_selections[ad] = number_of_selections[ad] + 1\n",
    "    reward = dataset.values[n, ad]\n",
    "    sums_of_rewads[ad] = sums_of_rewads[ad] + reward\n",
    "    total_rewards = total_rewards + reward"
   ]
  },
  {
   "cell_type": "markdown",
   "metadata": {},
   "source": [
    "**Visualising the results**"
   ]
  },
  {
   "cell_type": "code",
   "execution_count": 4,
   "metadata": {},
   "outputs": [
    {
     "data": {
      "image/png": "[encoded data removed]",
      "text/plain": [
       "<Figure size 432x288 with 1 Axes>"
      ]
     },
     "metadata": {
      "needs_background": "light"
     },
     "output_type": "display_data"
    }
   ],
   "source": [
    "plt.hist(ads_selected)\n",
    "plt.title(\"Histogram of ads Selection\")\n",
    "plt.xlabel(\"Ads\")\n",
    "plt.ylabel(\"Number of time each as was selected\")\n",
    "plt.show()"
   ]
  },
  {
   "cell_type": "markdown",
   "metadata": {},
   "source": [
    "- Now you can check the minimun number of rounds, by changing N.\n",
    "- By trying different numbers of rounds, 500 rounds is no enough for the UCB algorithm to identify that best with the highest cities and UCB identified the best ad as ad7."
   ]
  }
 ],
 "metadata": {
  "kernelspec": {
   "display_name": "Python 3",
   "language": "python",
   "name": "python3"
  },
  "language_info": {
   "codemirror_mode": {
    "name": "ipython",
    "version": 3
   },
   "file_extension": ".py",
   "mimetype": "text/x-python",
   "name": "python",
   "nbconvert_exporter": "python",
   "pygments_lexer": "ipython3",
   "version": "3.7.9"
  }
 },
 "nbformat": 4,
 "nbformat_minor": 4
}
